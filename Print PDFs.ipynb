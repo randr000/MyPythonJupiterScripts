{
 "cells": [
  {
   "cell_type": "code",
   "execution_count": 1,
   "metadata": {},
   "outputs": [],
   "source": [
    "from os import listdir, startfile\n",
    "import pandas as pd\n",
    "import time"
   ]
  },
  {
   "cell_type": "code",
   "execution_count": 2,
   "metadata": {},
   "outputs": [],
   "source": [
    "#Reads list of files to print so that already printed files are not reprinted and sets the order is which they will be printed\n",
    "\n",
    "#Insert file path. Must be csv file, include file extension.\n",
    "je_list_path = r\".csv\"\n",
    "\n",
    "df = pd.read_csv(je_list_path)"
   ]
  },
  {
   "cell_type": "code",
   "execution_count": 3,
   "metadata": {},
   "outputs": [],
   "source": [
    "filename = \"{} JE Printout and Backup-signed.pdf\"\n",
    "\n",
    "formatted_file_names = df['JE_NUM'].apply(lambda x: filename.format(x))\n",
    "\n",
    "#files to print\n",
    "path = r\"\"\n",
    "\n",
    "to_print = listdir(path)\n",
    "\n",
    "#Sends each file to default printer\n",
    "for file in formatted_file_names:\n",
    "    if file in to_print:\n",
    "        startfile(path + file, 'print')\n",
    "        \n",
    "        #Computer appears to use a stack instead of a queue to send files to printer so files may not print in order specified.\n",
    "        #The number in parenthesis represents the amount of time is seconds the script waits to send another file to printer.\n",
    "        #This should hopefully give enough time for the each file to be sent in order specified\n",
    "        time.sleep(20)"
   ]
  }
 ],
 "metadata": {
  "kernelspec": {
   "display_name": "Python 3",
   "language": "python",
   "name": "python3"
  },
  "language_info": {
   "codemirror_mode": {
    "name": "ipython",
    "version": 3
   },
   "file_extension": ".py",
   "mimetype": "text/x-python",
   "name": "python",
   "nbconvert_exporter": "python",
   "pygments_lexer": "ipython3",
   "version": "3.9.1"
  }
 },
 "nbformat": 4,
 "nbformat_minor": 4
}
