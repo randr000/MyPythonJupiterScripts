{
 "cells": [
  {
   "cell_type": "code",
   "execution_count": null,
   "metadata": {},
   "outputs": [],
   "source": [
    "from os import listdir, mkdir, startfile\n",
    "from os.path import isfile, join, exists\n",
    "from PyPDF2 import PdfFileMerger\n",
    "import re"
   ]
  },
  {
   "cell_type": "code",
   "execution_count": null,
   "metadata": {},
   "outputs": [],
   "source": [
    "#file path where all folders are located, must end with forward on windows computer /\n",
    "path = r\"/\"\n",
    "\n",
    "#filename to be used for mergerd PDF files\n",
    "filename = \"{} JE Printout and Backup-signed.pdf\"\n",
    "\n",
    "#go into each folder and merge all the PDFs in that specific folder into one file in numerical order\n",
    "for folder in listdir(path):\n",
    "    new_filename = filename.format(folder)\n",
    "    new_path = path + folder\n",
    "    \n",
    "    #only considers pdf files\n",
    "    pdffiles = [f for f in listdir(new_path) if isfile(join(new_path, f)) and re.match(r'.+.pdf', f, flags=re.IGNORECASE)]\n",
    "    pdffiles.sort()\n",
    "    \n",
    "    merger = PdfFileMerger()\n",
    "    for pdf in pdffiles:\n",
    "        merger.append(new_path + '/' + pdf)\n",
    "    \n",
    "    #new file created\n",
    "    merger.write(new_path + '/' + new_filename)\n",
    "    merger.close()"
   ]
  }
 ],
 "metadata": {
  "kernelspec": {
   "display_name": "Python 3",
   "language": "python",
   "name": "python3"
  },
  "language_info": {
   "codemirror_mode": {
    "name": "ipython",
    "version": 3
   },
   "file_extension": ".py",
   "mimetype": "text/x-python",
   "name": "python",
   "nbconvert_exporter": "python",
   "pygments_lexer": "ipython3",
   "version": "3.9.1"
  }
 },
 "nbformat": 4,
 "nbformat_minor": 4
}
